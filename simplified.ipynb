{
 "cells": [
  {
   "cell_type": "code",
   "execution_count": null,
   "id": "841bb3ba-796b-417c-9ae4-7003aead4685",
   "metadata": {},
   "outputs": [],
   "source": [
    "import matplotlib.pyplot as plt\n",
    "import numpy as np\n",
    "import pandas as pd\n",
    "import sympy as sy\n",
    "from IPython.core.interactiveshell import InteractiveShell\n",
    "\n",
    "InteractiveShell.ast_node_interactivity = \"all\"\n",
    "\n",
    "sy.init_printing()\n",
    "\n",
    "%matplotlib inline"
   ]
  },
  {
   "cell_type": "code",
   "execution_count": null,
   "id": "b54167f6-b486-494a-a384-fe531663cf11",
   "metadata": {},
   "outputs": [],
   "source": [
    "wakeup = pd.to_datetime(\"2025-05-01 7am\")\n",
    "\n",
    "pre_breakfast = pd.to_datetime(\"2025-05-01 8am\")\n",
    "post_breakfast = pd.to_datetime(\"2025-05-01 9am\")\n",
    "\n",
    "pre_lunch = pd.to_datetime(\"2025-05-01 12pm\")\n",
    "post_lunch = pd.to_datetime(\"2025-05-01 1am\")\n",
    "\n",
    "pre_dinner = pd.to_datetime(\"2025-05-01 6pm\")\n",
    "post_dinner = pd.to_datetime(\"2025-05-01 7pm\")\n",
    "\n",
    "bedtime = pd.to_datetime(\"2025-05-01 10pm\")"
   ]
  },
  {
   "cell_type": "markdown",
   "id": "fdf63f93-b9e1-4593-8015-736dba25d847",
   "metadata": {},
   "source": [
    "## proof of concept: perturb and stablize system"
   ]
  },
  {
   "cell_type": "markdown",
   "id": "c147015d-4fe7-4b96-8eee-8e026984af24",
   "metadata": {},
   "source": [
    "### theory"
   ]
  },
  {
   "cell_type": "code",
   "execution_count": null,
   "id": "2033a470-85dc-483c-9a6f-c775d490488e",
   "metadata": {},
   "outputs": [],
   "source": [
    "G_h, G, I, ISF, k_h, t = sy.symbols(\"G_h G I ISF k_h t\")"
   ]
  },
  {
   "cell_type": "code",
   "execution_count": null,
   "id": "98ec6cf3-c2b2-44fc-b98e-2eb6037e3d0c",
   "metadata": {},
   "outputs": [],
   "source": [
    "sy.Eq(sy.Derivative(G, t), k_h * t * (G_h - G))"
   ]
  },
  {
   "cell_type": "markdown",
   "id": "e58016d2-ef98-4381-8946-54d75882f491",
   "metadata": {},
   "source": [
    "### Implementation"
   ]
  },
  {
   "cell_type": "code",
   "execution_count": null,
   "id": "4577a4af-998a-495a-8de1-0ab39e11b6dd",
   "metadata": {},
   "outputs": [],
   "source": [
    "T = pd.date_range(start=\"2025-05-01\", end=\"2025-05-02\", freq=\"1min\")\n",
    "T"
   ]
  },
  {
   "cell_type": "code",
   "execution_count": null,
   "id": "d60d58d1-8739-4d1c-9dfd-0fe17f6d7a88",
   "metadata": {},
   "outputs": [],
   "source": []
  },
  {
   "cell_type": "code",
   "execution_count": null,
   "id": "d2d5943c-838c-450e-b7dd-1113aa0fe8a4",
   "metadata": {},
   "outputs": [],
   "source": [
    "T[0]"
   ]
  },
  {
   "cell_type": "code",
   "execution_count": null,
   "id": "77c4d308-f99c-4658-91ba-b4c8e5a5297a",
   "metadata": {},
   "outputs": [],
   "source": [
    "stopper = 0\n",
    "\n",
    "for i in T:\n",
    "    print(i, type(i))\n",
    "    print(i - T[0])\n",
    "    if stopper > 5:\n",
    "        break\n",
    "    stopper += 1"
   ]
  },
  {
   "cell_type": "code",
   "execution_count": null,
   "id": "4e2a3687-37be-4c5f-8ff7-f6d989233c64",
   "metadata": {
    "scrolled": true
   },
   "outputs": [],
   "source": [
    "G_i = 60  # initial glucose\n",
    "G_homeostatic_target = 100\n",
    "k_glucose_return = 0.001  # \"normal\"; gets 60 -> 100 or 140 -> 100 over 60 minutes\n",
    "t_step = 60  # 60s = 1 min\n",
    "\n",
    "G_log = list()\n",
    "\n",
    "dG_log = list()\n",
    "\n",
    "\n",
    "for t_i in T:\n",
    "    print(G_i)\n",
    "    G_log.append(G_i)\n",
    "    dG_log.append(k_glucose_return * t_step * (G_homeostatic_target - G_i))\n",
    "    G_i += k_glucose_return * t_step * (G_homeostatic_target - G_i)"
   ]
  },
  {
   "cell_type": "code",
   "execution_count": null,
   "id": "5c0ea2bc-42be-44b6-bfa5-3998a69a9a01",
   "metadata": {},
   "outputs": [],
   "source": [
    "pd.DataFrame({\"glucose\": G_log, \"dG\": dG_log}, index=T).plot()"
   ]
  },
  {
   "cell_type": "markdown",
   "id": "0ad50a32-1471-4922-90fb-512a827e784e",
   "metadata": {},
   "source": [
    "So, it appears it comes back to center. Now for the insulin."
   ]
  },
  {
   "cell_type": "markdown",
   "id": "4b9a296e-3bc7-401d-b030-d20a0dec2333",
   "metadata": {},
   "source": [
    "## now for insulin addition"
   ]
  },
  {
   "cell_type": "code",
   "execution_count": null,
   "id": "858a3164-fd96-42fe-8eed-c8c22576b928",
   "metadata": {},
   "outputs": [],
   "source": [
    "from collections import namedtuple"
   ]
  },
  {
   "cell_type": "code",
   "execution_count": null,
   "id": "bb9dc7c6-f11b-449e-8dec-6f09fe8cadaf",
   "metadata": {},
   "outputs": [],
   "source": [
    "InsulinType = namedtuple(\"InsulinType\", [\"insulin_name\", \"onset\", \"duration\"])\n",
    "InsulinDose = namedtuple(\"InsulinDose\", [\"InsulinType\", \"dose\", \"time\"])"
   ]
  },
  {
   "cell_type": "code",
   "execution_count": null,
   "id": "8c71aa1b-cd25-46c2-ab88-fe9c2cda1e7f",
   "metadata": {},
   "outputs": [],
   "source": [
    "glargine = InsulinType(\"glargine\", pd.to_timedelta(\"30min\"), pd.to_timedelta(\"20h\"))\n",
    "glargine"
   ]
  },
  {
   "cell_type": "code",
   "execution_count": null,
   "id": "ee12501e-1674-4f79-a563-da368227bb8d",
   "metadata": {},
   "outputs": [],
   "source": [
    "glargine_dose_1 = InsulinDose(\n",
    "    InsulinType=glargine, dose=10, time=pd.to_datetime(\"2025-05-01 8am\")\n",
    ")\n",
    "glargine_dose_1"
   ]
  },
  {
   "cell_type": "code",
   "execution_count": null,
   "id": "98178e5b-5b27-4f6e-a99f-74a5b057e233",
   "metadata": {},
   "outputs": [],
   "source": [
    "glargine_dose_1.InsulinType.duration"
   ]
  },
  {
   "cell_type": "markdown",
   "id": "54067b82-42bb-41e8-b91b-48e053bbe2fa",
   "metadata": {},
   "source": [
    "Working nested datatype for adding insulin types and doses."
   ]
  },
  {
   "cell_type": "markdown",
   "id": "24103bd0-2706-4592-a6c4-f8c23ca95882",
   "metadata": {},
   "source": [
    "Let's add all insulins:"
   ]
  },
  {
   "cell_type": "code",
   "execution_count": null,
   "id": "83b76f54-df4c-4b98-8092-a50728bb6c18",
   "metadata": {},
   "outputs": [],
   "source": [
    "degludec = InsulinType(\"degludec\", pd.to_timedelta(\"10h\"), pd.to_timedelta(\"42h\"))\n",
    "glargine_U_300 = InsulinType(\n",
    "    \"glargine_U_300\", pd.to_timedelta(\"6h\"), pd.to_timedelta(\"36h\")\n",
    ")\n",
    "glargine_U_100 = InsulinType(\n",
    "    \"glargine_U_100\", pd.to_timedelta(\"4h\"), pd.to_timedelta(\"22h\")\n",
    ")\n",
    "detemir = InsulinType(\"detemir\", pd.to_timedelta(\"2h\"), pd.to_timedelta(\"18h\"))\n",
    "regular_IV = InsulinType(\n",
    "    \"regular_IV\", pd.to_timedelta(\"2min\"), pd.to_timedelta(\"60min\")\n",
    ")\n",
    "regular_SC = InsulinType(\"regular_SC\", pd.to_timedelta(\"10min\"), pd.to_timedelta(\"6h\"))\n",
    "RAI = InsulinType(\"RAI\", pd.to_timedelta(\"10min\"), pd.to_timedelta(\"4h\"))\n",
    "NPH = InsulinType(\"NPH\", pd.to_timedelta(\"1h\"), pd.to_timedelta(\"16h\"))\n",
    "[\n",
    "    degludec,\n",
    "    glargine_U_300,\n",
    "    glargine_U_100,\n",
    "    detemir,\n",
    "    regular_IV,\n",
    "    regular_SC,\n",
    "    RAI,\n",
    "    NPH,\n",
    "]"
   ]
  },
  {
   "cell_type": "code",
   "execution_count": null,
   "id": "031de6fd-537d-4712-a2f2-a4456f06b49c",
   "metadata": {},
   "outputs": [],
   "source": [
    "# basal bolus\n",
    "basal_bolus = [\n",
    "    InsulinDose(InsulinType=glargine_U_100, dose=20, time=wakeup),\n",
    "    InsulinDose(InsulinType=RAI, dose=10, time=pre_breakfast),\n",
    "    InsulinDose(InsulinType=RAI, dose=10, time=pre_lunch),\n",
    "    InsulinDose(InsulinType=RAI, dose=10, time=pre_dinner),\n",
    "]\n",
    "basal_bolus"
   ]
  },
  {
   "cell_type": "code",
   "execution_count": null,
   "id": "ee527f80-a7f3-433a-9d3d-ba3acc293c1e",
   "metadata": {},
   "outputs": [],
   "source": [
    "I = np.zeros(len(T))"
   ]
  },
  {
   "cell_type": "code",
   "execution_count": null,
   "id": "eda2c17d-33b1-48af-b989-b6adcc50d20d",
   "metadata": {},
   "outputs": [],
   "source": []
  }
 ],
 "metadata": {
  "kernelspec": {
   "display_name": "Python 3 (ipykernel)",
   "language": "python",
   "name": "python3"
  },
  "language_info": {
   "codemirror_mode": {
    "name": "ipython",
    "version": 3
   },
   "file_extension": ".py",
   "mimetype": "text/x-python",
   "name": "python",
   "nbconvert_exporter": "python",
   "pygments_lexer": "ipython3",
   "version": "3.12.4"
  }
 },
 "nbformat": 4,
 "nbformat_minor": 5
}
