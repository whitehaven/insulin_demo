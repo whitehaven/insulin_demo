{
 "cells": [
  {
   "cell_type": "code",
   "execution_count": null,
   "id": "3ae0f731-e04d-4c31-8385-c1b94ceddda2",
   "metadata": {},
   "outputs": [],
   "source": [
    "import matplotlib.pyplot as plt\n",
    "import numpy as np\n",
    "import pandas as pd\n",
    "import sympy as sy\n",
    "from IPython.core.interactiveshell import InteractiveShell\n",
    "\n",
    "InteractiveShell.ast_node_interactivity = \"all\"\n",
    "\n",
    "sy.init_printing()\n",
    "\n",
    "%matplotlib inline"
   ]
  },
  {
   "cell_type": "markdown",
   "id": "97cbdb44-b76d-4ea7-abee-90181b57dce5",
   "metadata": {},
   "source": [
    "Let C be glucagon level, I is insulin"
   ]
  },
  {
   "cell_type": "markdown",
   "id": "c1115e51-21bc-4058-b4fd-14b846710758",
   "metadata": {},
   "source": [
    "```mermaid\n",
    "flowchart LR\n",
    "\n",
    "Glucagon --> Insulin:Glucagon\n",
    "Insulin --> Insulin:Glucagon\n",
    "Insulin:Glucagon -- [I:G high] --> GU[Glucose Uptake]\n",
    "Insulin:Glucagon -- [I:G low] --> GN[Gluconeogensis]\n",
    "\n",
    "\n",
    "```"
   ]
  },
  {
   "cell_type": "markdown",
   "id": "649dec8d-3b94-4ce9-9ed8-7aeac3b89024",
   "metadata": {},
   "source": [
    "Insulin:Glucagon --[I\\<G]--> Gluconeogenesis\n",
    "Gluconeogensis --> Glucose\n",
    "Glucose Uptake --> Glucose\n"
   ]
  },
  {
   "cell_type": "code",
   "execution_count": null,
   "id": "ec762248-2409-4b47-99ef-8c869507cffb",
   "metadata": {},
   "outputs": [],
   "source": [
    "sy.symbols(\"G I C t\")"
   ]
  },
  {
   "cell_type": "code",
   "execution_count": null,
   "id": "7718324d-422b-492c-abf3-61e0a6bd0366",
   "metadata": {},
   "outputs": [],
   "source": []
  }
 ],
 "metadata": {
  "kernelspec": {
   "display_name": "Python 3 (ipykernel)",
   "language": "python",
   "name": "python3"
  },
  "language_info": {
   "codemirror_mode": {
    "name": "ipython",
    "version": 3
   },
   "file_extension": ".py",
   "mimetype": "text/x-python",
   "name": "python",
   "nbconvert_exporter": "python",
   "pygments_lexer": "ipython3",
   "version": "3.12.4"
  }
 },
 "nbformat": 4,
 "nbformat_minor": 5
}
