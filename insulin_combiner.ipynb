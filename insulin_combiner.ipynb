{
 "cells": [
  {
   "cell_type": "code",
   "execution_count": null,
   "id": "1b457757-79b7-401d-99b2-b2953489033b",
   "metadata": {},
   "outputs": [],
   "source": [
    "import datetime\n",
    "\n",
    "import matplotlib.pyplot as plt\n",
    "import numpy as np\n",
    "import sympy as sy\n",
    "from IPython.core.interactiveshell import InteractiveShell\n",
    "\n",
    "InteractiveShell.ast_node_interactivity = \"all\"\n",
    "\n",
    "sy.init_printing()\n",
    "\n",
    "%matplotlib inline"
   ]
  },
  {
   "cell_type": "code",
   "execution_count": null,
   "id": "a720ab1a-1458-403e-9809-3e0392164c7a",
   "metadata": {},
   "outputs": [],
   "source": []
  },
  {
   "cell_type": "code",
   "execution_count": null,
   "id": "b9572440-abcc-4c1d-a303-ec4319b760d5",
   "metadata": {},
   "outputs": [],
   "source": [
    "class Insulin_Type:\n",
    "\n",
    "    def __init__(\n",
    "        self,\n",
    "        name,\n",
    "        onset: datetime.timedelta,\n",
    "        duration: datetime.timedelta,\n",
    "        route=\"subcutaneous\",\n",
    "    ):\n",
    "        import datetime\n",
    "\n",
    "        assert route in [\"subcutaneous\", \"intravenous\"], \"bad route\"\n",
    "        assert type(onset) == datetime.timedelta, \"bad onset type\"\n",
    "        assert type(duration) == datetime.timedelta, \"bad duration type\"\n",
    "        assert type(name) == str, \"bad title\"\n",
    "\n",
    "        self.name = name\n",
    "        self.onset = onset\n",
    "        self.duration = duration\n",
    "        self.route = route\n",
    "\n",
    "    def __repr__(self):\n",
    "        return f\"Insulin_Type({self.name}, onset={self.onset}, duration={self.duration}, route={self.route})\"\n",
    "\n",
    "    def traditional_insulin_on_board(self, dose, time_since_administration):\n",
    "        assert dose >= 0, \"negative dose\"\n",
    "        assert type(time_since_administration) == datetime.timedelta, \"bad time\"\n",
    "        assert time_since_administration >= datetime.timedelta(), \"negative time\"\n",
    "\n",
    "        return dose * (1 - time_since_administration / self.duration)"
   ]
  },
  {
   "cell_type": "code",
   "execution_count": null,
   "id": "1f8864dc-0674-4234-b39d-bfdda04a028d",
   "metadata": {},
   "outputs": [],
   "source": [
    "glargine = Insulin_Type(\n",
    "    \"glargine\",\n",
    "    onset=datetime.timedelta(minutes=15),\n",
    "    duration=datetime.timedelta(hours=20),\n",
    ")"
   ]
  },
  {
   "cell_type": "code",
   "execution_count": null,
   "id": "249a3892-8660-4726-8a03-31824935a0b9",
   "metadata": {},
   "outputs": [],
   "source": [
    "glargine"
   ]
  },
  {
   "cell_type": "code",
   "execution_count": null,
   "id": "0a2ca93c-2ffd-4891-a635-b1d04359289e",
   "metadata": {},
   "outputs": [],
   "source": []
  },
  {
   "cell_type": "code",
   "execution_count": null,
   "id": "0fa5773e-c8f4-4333-bdff-22375985b81f",
   "metadata": {},
   "outputs": [],
   "source": [
    "glargine.traditional_insulin_on_board(10, datetime.timedelta(hours=4))"
   ]
  },
  {
   "cell_type": "code",
   "execution_count": null,
   "id": "d623918d-e7f2-4acc-a794-5b347734d4d0",
   "metadata": {},
   "outputs": [],
   "source": []
  }
 ],
 "metadata": {
  "kernelspec": {
   "display_name": "Python 3 (ipykernel)",
   "language": "python",
   "name": "python3"
  },
  "language_info": {
   "codemirror_mode": {
    "name": "ipython",
    "version": 3
   },
   "file_extension": ".py",
   "mimetype": "text/x-python",
   "name": "python",
   "nbconvert_exporter": "python",
   "pygments_lexer": "ipython3",
   "version": "3.12.4"
  }
 },
 "nbformat": 4,
 "nbformat_minor": 5
}
