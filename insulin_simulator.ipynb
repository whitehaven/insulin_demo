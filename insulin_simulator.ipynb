{
 "cells": [
  {
   "cell_type": "code",
   "execution_count": null,
   "id": "b0fd4f43-c447-42a4-bde7-03a6225df5f0",
   "metadata": {},
   "outputs": [],
   "source": [
    "import matplotlib.pyplot as plt\n",
    "import numpy as np\n",
    "import sympy as sy\n",
    "from IPython.core.interactiveshell import InteractiveShell\n",
    "\n",
    "InteractiveShell.ast_node_interactivity = \"all\"\n",
    "\n",
    "sy.init_printing()\n",
    "\n",
    "%matplotlib inline"
   ]
  },
  {
   "cell_type": "code",
   "execution_count": null,
   "id": "8bf5383a-ddc5-48e6-a36f-fb1763beb3a1",
   "metadata": {},
   "outputs": [],
   "source": [
    "def ISF_to_CHOR(ISF):\n",
    "    return 5/18 * ISF\n",
    "def CHOR_to_ISF(CHOR):\n",
    "    return 18/5 * CHOR"
   ]
  },
  {
   "cell_type": "markdown",
   "id": "cd417ea8-cbdf-4e04-9507-8d30bd535fac",
   "metadata": {},
   "source": [
    "Should use time for ease of use, or just numbers?"
   ]
  },
  {
   "cell_type": "markdown",
   "id": "639a6d4a-3ec6-48fd-8ad6-89abd951ba29",
   "metadata": {},
   "source": [
    "$$\n",
    "G_{CHO}(t) = C k_{CHO} ( e^{-t/r_{abs}} - e^{-t/r_{elim}})\n",
    "$$"
   ]
  },
  {
   "cell_type": "markdown",
   "id": "a084ce41-0b9d-4fa3-b9b4-d67ee38c724a",
   "metadata": {},
   "source": [
    "Insulin is supposed to be linear in action."
   ]
  },
  {
   "cell_type": "markdown",
   "id": "a27e9a84-e570-4b1e-a5f9-ccc0d5787a83",
   "metadata": {},
   "source": [
    "```mermaid\n",
    "flowchart LR\n",
    "\n",
    "gut -- r_abs x CHO(g) --> blood\n",
    "blood -- I_t x ISF --> tissue\n",
    "blood -- intrinsic I:G --> tissue\n",
    "blood -- catechol-driven pathway --> tissue\n",
    "tissue -- gluconeogenesis --> blood\n",
    "tissue -- RMR + exercise --> catabolized\n",
    "\n",
    "```"
   ]
  },
  {
   "cell_type": "code",
   "execution_count": null,
   "id": "828657b7-b755-47d1-a22b-05722f17dd87",
   "metadata": {},
   "outputs": [],
   "source": []
  },
  {
   "cell_type": "code",
   "execution_count": null,
   "id": "c8c75512-e38d-4f62-89b6-22a0464d2ae1",
   "metadata": {},
   "outputs": [],
   "source": [
    "TDD, ISF, CHOR = sy.symbols('TDD ISF CHOR')\n",
    "G, G_h, I, t = sy.symbols('G G_h I t')"
   ]
  },
  {
   "cell_type": "code",
   "execution_count": null,
   "id": "befb2507-0a0e-4e3b-9784-e7a0a1da27e8",
   "metadata": {},
   "outputs": [],
   "source": [
    "sy.Eq(sy.Derivative(G, t),(G-G_h) * I)"
   ]
  },
  {
   "cell_type": "code",
   "execution_count": null,
   "id": "2df2c89c-81cf-4d1d-8610-a5323e8a9fc3",
   "metadata": {},
   "outputs": [],
   "source": [
    "sy.Eq(ISF, 1800/(500/CHOR))\n",
    "sy.solve(sy.Eq(ISF, 1800/(500/CHOR)), CHOR)"
   ]
  },
  {
   "cell_type": "code",
   "execution_count": null,
   "id": "c3ae5fbd-7822-4a13-9cd1-1b01e382f7dd",
   "metadata": {},
   "outputs": [],
   "source": [
    "sy.diff()"
   ]
  },
  {
   "cell_type": "code",
   "execution_count": null,
   "id": "1fc47a70-358e-4050-b689-60470cd9fb48",
   "metadata": {},
   "outputs": [],
   "source": []
  },
  {
   "cell_type": "code",
   "execution_count": null,
   "id": "33f9228f-6d21-4b1d-a5b1-d50b8edff2ae",
   "metadata": {},
   "outputs": [],
   "source": []
  },
  {
   "cell_type": "code",
   "execution_count": null,
   "id": "896758f1-5385-4528-91a1-bca54f027550",
   "metadata": {},
   "outputs": [],
   "source": []
  },
  {
   "cell_type": "code",
   "execution_count": null,
   "id": "dfae6827-3ab6-40c0-a2fa-6d0198f64653",
   "metadata": {},
   "outputs": [],
   "source": [
    "CHOR_to_ISF(10)"
   ]
  },
  {
   "cell_type": "code",
   "execution_count": null,
   "id": "16ae0580-1a54-491c-8a4c-fe13136e3849",
   "metadata": {},
   "outputs": [],
   "source": [
    "cho = 100\n",
    "chor = 1/10\n",
    "r_abs = 30\n",
    "r_elim = 90\n",
    "t = np.arange(60*24)\n",
    "plt.plot(t, cho * chor * (np.exp(-t/r_abs) - np.exp(-t/r_elim)))\n",
    "plt.title(\"instantaneous G change\")\n",
    "plt.show()\n",
    "plt.plot(t,(np.cumsum(cho * chor * (np.exp(-t/r_abs) - np.exp(-t/r_elim)))))\n",
    "plt.title(\"cumulative G change\")"
   ]
  },
  {
   "cell_type": "code",
   "execution_count": null,
   "id": "0e7bcb6a-4969-4274-b21a-fee2e51cc9cc",
   "metadata": {},
   "outputs": [],
   "source": []
  },
  {
   "cell_type": "code",
   "execution_count": null,
   "id": "3dd522a4-ab17-4d7b-928b-3ed9b5091d64",
   "metadata": {},
   "outputs": [],
   "source": []
  },
  {
   "cell_type": "code",
   "execution_count": null,
   "id": "7b00f8c7-4193-4377-a220-b6fb4b719f97",
   "metadata": {},
   "outputs": [],
   "source": []
  }
 ],
 "metadata": {
  "kernelspec": {
   "display_name": "Python 3 (ipykernel)",
   "language": "python",
   "name": "python3"
  },
  "language_info": {
   "codemirror_mode": {
    "name": "ipython",
    "version": 3
   },
   "file_extension": ".py",
   "mimetype": "text/x-python",
   "name": "python",
   "nbconvert_exporter": "python",
   "pygments_lexer": "ipython3",
   "version": "3.12.4"
  }
 },
 "nbformat": 4,
 "nbformat_minor": 5
}
