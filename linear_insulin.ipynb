{
 "cells": [
  {
   "cell_type": "code",
   "execution_count": 1,
   "metadata": {
    "execution": {
     "iopub.execute_input": "2025-05-05T23:56:17.315101Z",
     "iopub.status.busy": "2025-05-05T23:56:17.314754Z",
     "iopub.status.idle": "2025-05-05T23:56:55.683720Z",
     "shell.execute_reply": "2025-05-05T23:56:55.623839Z",
     "shell.execute_reply.started": "2025-05-05T23:56:17.315077Z"
    },
    "id": "aicqwKin3B24"
   },
   "outputs": [
    {
     "name": "stderr",
     "output_type": "stream",
     "text": [
      "/home/accrist/anaconda3/envs/modeling/lib/python3.12/site-packages/numpy/_core/getlimits.py:548: UserWarning: Signature b'\\x00\\xd0\\xcc\\xcc\\xcc\\xcc\\xcc\\xcc\\xfb\\xbf\\x00\\x00\\x00\\x00\\x00\\x00' for <class 'numpy.longdouble'> does not match any known type: falling back to type probe function.\n",
      "This warnings indicates broken support for the dtype!\n",
      "  machar = _get_machar(dtype)\n"
     ]
    }
   ],
   "source": [
    "from collections import namedtuple\n",
    "\n",
    "import matplotlib.pyplot as plt\n",
    "import numpy as np\n",
    "import pandas as pd\n",
    "import sympy as sy\n",
    "from IPython.core.interactiveshell import InteractiveShell\n",
    "\n",
    "InteractiveShell.ast_node_interactivity = \"all\"\n",
    "\n",
    "\n",
    "sy.init_printing()\n",
    "\n",
    "upon_waking = pd.to_datetime(\"2025-05-01 7am\")\n",
    "pre_breakfast = pd.to_datetime(\"2025-05-01 8am\")\n",
    "pre_lunch = pd.to_datetime(\"2025-05-01 12pm\")\n",
    "pre_dinner = pd.to_datetime(\"2025-05-01 5pm\")\n",
    "\n",
    "%matplotlib inline"
   ]
  },
  {
   "cell_type": "code",
   "execution_count": null,
   "metadata": {
    "id": "xWONBpMf4QO-"
   },
   "outputs": [],
   "source": [
    "I, t, k_ISF, k_abs, k_h, G_h, G, C, k_CHOR = sy.symbols(\n",
    "    \"I t k_ISF, k_abs k_h G_h G C k_CHOR\"\n",
    ")"
   ]
  },
  {
   "cell_type": "code",
   "execution_count": null,
   "metadata": {
    "colab": {
     "base_uri": "https://localhost:8080/",
     "height": 116
    },
    "id": "TG7tHKz13MM5",
    "outputId": "53cd0810-72e2-4634-9916-7cfd598ce883"
   },
   "outputs": [],
   "source": [
    "k_h * (G_h - G)\n",
    "-I * k_ISF\n",
    "+k_CHOR * C\n",
    "sy.Eq(sy.Derivative(G, t), k_h * (G_h - G) * t - I * k_ISF * t + k_CHOR * C * t)"
   ]
  },
  {
   "cell_type": "code",
   "execution_count": null,
   "metadata": {
    "colab": {
     "base_uri": "https://localhost:8080/",
     "height": 52
    },
    "id": "k8Llj3kGR5lC",
    "outputId": "1598033a-2636-48bc-af4b-e004f188f409"
   },
   "outputs": [],
   "source": [
    "sy.Derivative(I * t**2, t)"
   ]
  },
  {
   "cell_type": "code",
   "execution_count": null,
   "metadata": {
    "colab": {
     "base_uri": "https://localhost:8080/",
     "height": 38
    },
    "id": "gPPkohz4SJMS",
    "outputId": "1166f376-ba91-48bf-8614-504a58f74de9"
   },
   "outputs": [],
   "source": [
    "sy.diff(I * t**2, t)"
   ]
  },
  {
   "cell_type": "code",
   "execution_count": null,
   "metadata": {
    "colab": {
     "base_uri": "https://localhost:8080/",
     "height": 52
    },
    "id": "_9hrr6T2RnPR",
    "outputId": "0bf3bd9b-c443-4379-8cf7-83dcd56cf3d6"
   },
   "outputs": [],
   "source": [
    "sy.diff(I * t**2, I, evaluate=False)"
   ]
  },
  {
   "cell_type": "code",
   "execution_count": null,
   "metadata": {
    "id": "eI9XYZk-53AU"
   },
   "outputs": [],
   "source": [
    "# should just do flat x time?"
   ]
  },
  {
   "cell_type": "code",
   "execution_count": null,
   "metadata": {
    "id": "aWDTDs_e-t9N"
   },
   "outputs": [],
   "source": [
    "dt_by_min = pd.date_range(start=\"2025-05-01\", end=\"2025-05-03\", freq=\"1min\")"
   ]
  },
  {
   "cell_type": "code",
   "execution_count": null,
   "metadata": {
    "colab": {
     "base_uri": "https://localhost:8080/",
     "height": 206
    },
    "id": "1h62GSGr6e2j",
    "outputId": "1d20d3d7-8952-4370-d81c-84520b1e97e2"
   },
   "outputs": [],
   "source": [
    "ds = pd.DataFrame(index=dt_by_min, data={\"insulin_level\": np.zeros(len(dt_by_min))})\n",
    "ds.head()"
   ]
  },
  {
   "cell_type": "code",
   "execution_count": null,
   "metadata": {
    "colab": {
     "base_uri": "https://localhost:8080/"
    },
    "id": "o4V0XROKAJLz",
    "outputId": "c47688cc-d247-4eba-ad65-061743a8e7ec"
   },
   "outputs": [],
   "source": [
    "ds.info()"
   ]
  },
  {
   "cell_type": "code",
   "execution_count": null,
   "metadata": {
    "id": "DYuFhE0a8E9o"
   },
   "outputs": [],
   "source": [
    "InsulinType = namedtuple(\"InsulinType\", [\"agent\", \"onset\", \"duration\"])\n",
    "InsulinDose = namedtuple(\"InsulinDose\", [\"InsulinType\", \"dose\", \"time\"])"
   ]
  },
  {
   "cell_type": "code",
   "execution_count": null,
   "metadata": {
    "id": "NFToZPFk9kEf"
   },
   "outputs": [],
   "source": [
    "glargine = InsulinType(\n",
    "    \"glargine\", onset=pd.to_timedelta(\"2h\"), duration=pd.to_timedelta(\"20h\")\n",
    ")\n",
    "RAI = InsulinType(\"RAI\", onset=pd.to_timedelta(\"30min\"), duration=pd.to_timedelta(\"3h\"))"
   ]
  },
  {
   "cell_type": "code",
   "execution_count": null,
   "metadata": {
    "colab": {
     "base_uri": "https://localhost:8080/",
     "height": 206
    },
    "id": "ugqjKN_sH_rV",
    "outputId": "b6026f0b-b869-4f71-8c38-a8210125af92"
   },
   "outputs": [],
   "source": [
    "ds = pd.DataFrame(index=dt_by_min, data={\"insulin_level\": np.zeros(len(dt_by_min))})\n",
    "ds.head()"
   ]
  },
  {
   "cell_type": "code",
   "execution_count": null,
   "metadata": {
    "colab": {
     "base_uri": "https://localhost:8080/"
    },
    "id": "qoEZ11Tn9xx3",
    "outputId": "cb99e51d-0f4c-4c8b-9f37-14ee9145bb80"
   },
   "outputs": [],
   "source": [
    "doses = []\n",
    "for dose in zip(\n",
    "    [glargine, RAI, RAI, RAI],\n",
    "    [10, 10, 10, 10],\n",
    "    [upon_waking, pre_breakfast, pre_lunch, pre_dinner],\n",
    "):\n",
    "    doses.append(InsulinDose(InsulinType=dose[0], dose=dose[1], time=dose[2]))\n",
    "doses"
   ]
  },
  {
   "cell_type": "code",
   "execution_count": null,
   "metadata": {
    "id": "GHNzTC7f-DUu"
   },
   "outputs": [],
   "source": [
    "for dose in doses:\n",
    "    ds.loc[\n",
    "        (ds.index >= dose.time + dose.InsulinType.onset)\n",
    "        & (ds.index < dose.InsulinType.onset + dose.time + dose.InsulinType.duration),\n",
    "        \"insulin_level\",\n",
    "    ] += (\n",
    "        dose.dose / dose.InsulinType.duration.total_seconds() / 60\n",
    "    )"
   ]
  },
  {
   "cell_type": "code",
   "execution_count": null,
   "metadata": {
    "colab": {
     "base_uri": "https://localhost:8080/",
     "height": 494
    },
    "id": "FuZkKLc3_v5M",
    "outputId": "8984d545-0fbb-44a7-bf35-7ceed5da93a1"
   },
   "outputs": [],
   "source": [
    "ds.plot()"
   ]
  },
  {
   "cell_type": "code",
   "execution_count": null,
   "metadata": {
    "colab": {
     "base_uri": "https://localhost:8080/",
     "height": 494
    },
    "id": "6KNa3CGAFkUT",
    "outputId": "19c96579-75e2-4abe-ee06-ed1495ff6536"
   },
   "outputs": [],
   "source": [
    "ds.resample(\"30min\").mean().plot()"
   ]
  },
  {
   "cell_type": "markdown",
   "metadata": {
    "id": "WYbF5xUKInwI"
   },
   "source": [
    "# now what about sigmoidal?"
   ]
  },
  {
   "cell_type": "code",
   "execution_count": null,
   "metadata": {},
   "outputs": [],
   "source": []
  }
 ],
 "metadata": {
  "colab": {
   "provenance": []
  },
  "kernelspec": {
   "display_name": "Python 3 (ipykernel)",
   "language": "python",
   "name": "python3"
  },
  "language_info": {
   "codemirror_mode": {
    "name": "ipython",
    "version": 3
   },
   "file_extension": ".py",
   "mimetype": "text/x-python",
   "name": "python",
   "nbconvert_exporter": "python",
   "pygments_lexer": "ipython3",
   "version": "3.12.4"
  }
 },
 "nbformat": 4,
 "nbformat_minor": 4
}
